{
 "cells": [
  {
   "cell_type": "markdown",
   "metadata": {},
   "source": [
    "## Тема: \"Анализ рынка книг\""
   ]
  },
  {
   "cell_type": "markdown",
   "metadata": {},
   "source": [
    "### Цель: \n",
    "Проанализировать данные и выявить особенности рынка книг."
   ]
  },
  {
   "cell_type": "markdown",
   "metadata": {},
   "source": [
    "### Описание:\n",
    "Коронавирус застал мир врасплох, изменив привычный порядок вещей. В свободное время жители городов больше не выходят на улицу, не посещают кафе и торговые центры. Зато стало больше времени для книг. Это заметили стартаперы — и бросились создавать приложения для тех, кто любит читать.\n",
    "\n",
    "Ваша компания решила быть на волне и купила крупный сервис для чтения книг по подписке. Ваша первая задача как аналитика — проанализировать базу данных.\n",
    "В ней — информация о книгах, издательствах, авторах, а также пользовательские обзоры книг. Эти данные помогут сформулировать ценностное предложение для нового продукта."
   ]
  },
  {
   "cell_type": "markdown",
   "metadata": {},
   "source": [
    "### Описание данных\n",
    "\n",
    "**Таблица `books`**\n",
    "\n",
    "Содержит данные о книгах:\n",
    "\n",
    "- `book_id` — идентификатор книги;\n",
    "- `author_id` — идентификатор автора;\n",
    "- `title` — название книги;\n",
    "- `num_pages` — количество страниц;\n",
    "- `publication_date` — дата публикации книги;\n",
    "- `publisher_id` — идентификатор издателя.\n",
    "\n",
    "**Таблица `authors`**\n",
    "\n",
    "Содержит данные об авторах:\n",
    "\n",
    "- `author_id` — идентификатор автора;\n",
    "- `author` — имя автора.\n",
    "\n",
    "**Таблица `publishers`**\n",
    "\n",
    "Содержит данные об издательствах:\n",
    "\n",
    "- `publisher_id` — идентификатор издательства;\n",
    "- `publisher` — название издательства;\n",
    "\n",
    "**Таблица `ratings`**\n",
    "\n",
    "Содержит данные о пользовательских оценках книг:\n",
    "\n",
    "- `rating_id` — идентификатор оценки;\n",
    "- `book_id` — идентификатор книги;\n",
    "- `username` — имя пользователя, оставившего оценку;\n",
    "- `rating` — оценка книги.\n",
    "\n",
    "**Таблица `reviews`**\n",
    "\n",
    "Содержит данные о пользовательских обзорах на книги:\n",
    "\n",
    "- `review_id` — идентификатор обзора;\n",
    "- `book_id` — идентификатор книги;\n",
    "- `username` — имя пользователя, написавшего обзор;\n",
    "- `text` — текст обзора."
   ]
  },
  {
   "cell_type": "markdown",
   "metadata": {},
   "source": [
    "### 1. Загрузим данные"
   ]
  },
  {
   "cell_type": "code",
   "execution_count": 2,
   "metadata": {},
   "outputs": [],
   "source": [
    "# устанавливаем параметры\n",
    "db_config = {'user': 'praktikum_student', # имя пользователя\n",
    "'pwd': 'Sdf4$2;d-d30pp', # пароль\n",
    "'host': 'rc1b-wcoijxj3yxfsf3fs.mdb.yandexcloud.net',\n",
    "'port': 6432, # порт подключения\n",
    "'db': 'data-analyst-final-project-db'} # название базы данных\n",
    "\n",
    "connection_string = 'postgresql://{}:{}@{}:{}/{}'.format(db_config['user'], db_config['pwd'], db_config['host'], db_config['port'],\n",
    "db_config['db'])\n",
    "\n",
    "engine = create_engine(connection_string, connect_args={'sslmode':'require'})"
   ]
  },
  {
   "cell_type": "code",
   "execution_count": 3,
   "metadata": {},
   "outputs": [],
   "source": [
    "# Сделаем функцию, которая даст доступ к базе \n",
    "def code(x):\n",
    "    query = x\n",
    "    y = pd.io.sql.read_sql(query, con = engine)\n",
    "    print(y)"
   ]
  },
  {
   "cell_type": "code",
   "execution_count": 4,
   "metadata": {},
   "outputs": [
    {
     "name": "stdout",
     "output_type": "stream",
     "text": [
      "   book_id  author_id                                              title  \\\n",
      "0        1        546                                       'Salem's Lot   \n",
      "1        2        465                 1 000 Places to See Before You Die   \n",
      "2        3        407  13 Little Blue Envelopes (Little Blue Envelope...   \n",
      "3        4         82  1491: New Revelations of the Americas Before C...   \n",
      "4        5        125                                               1776   \n",
      "\n",
      "   num_pages publication_date  publisher_id  \n",
      "0        594       2005-11-01            93  \n",
      "1        992       2003-05-22           336  \n",
      "2        322       2010-12-21           135  \n",
      "3        541       2006-10-10           309  \n",
      "4        386       2006-07-04           268  \n"
     ]
    }
   ],
   "source": [
    "# Выгрузим данные таблицы books\n",
    "code('''\n",
    "SELECT * \n",
    "  FROM books\n",
    " LIMIT 5''')"
   ]
  },
  {
   "cell_type": "code",
   "execution_count": 5,
   "metadata": {},
   "outputs": [
    {
     "name": "stdout",
     "output_type": "stream",
     "text": [
      "   author_id                          author\n",
      "0          1                      A.S. Byatt\n",
      "1          2  Aesop/Laura Harris/Laura Gibbs\n",
      "2          3                 Agatha Christie\n",
      "3          4                   Alan Brennert\n",
      "4          5        Alan Moore/David   Lloyd\n"
     ]
    }
   ],
   "source": [
    "# Выгрузим данные таблицы authors\n",
    "code('''\n",
    "SELECT * \n",
    "  FROM authors\n",
    " LIMIT 5''')"
   ]
  },
  {
   "cell_type": "code",
   "execution_count": 6,
   "metadata": {},
   "outputs": [
    {
     "name": "stdout",
     "output_type": "stream",
     "text": [
      "   publisher_id                          publisher\n",
      "0             1                                Ace\n",
      "1             2                           Ace Book\n",
      "2             3                          Ace Books\n",
      "3             4                      Ace Hardcover\n",
      "4             5  Addison Wesley Publishing Company\n"
     ]
    }
   ],
   "source": [
    "# Выгрузим данные таблицы publishers\n",
    "code('''\n",
    "SELECT * \n",
    "  FROM publishers\n",
    " LIMIT 5''')"
   ]
  },
  {
   "cell_type": "code",
   "execution_count": 7,
   "metadata": {},
   "outputs": [
    {
     "name": "stdout",
     "output_type": "stream",
     "text": [
      "   rating_id  book_id       username  rating\n",
      "0          1        1     ryanfranco       4\n",
      "1          2        1  grantpatricia       2\n",
      "2          3        1   brandtandrea       5\n",
      "3          4        2       lorichen       3\n",
      "4          5        2    mariokeller       2\n"
     ]
    }
   ],
   "source": [
    "# Выгрузим данные таблицы ratings\n",
    "code('''\n",
    "SELECT * \n",
    "  FROM ratings\n",
    " LIMIT 5''')"
   ]
  },
  {
   "cell_type": "code",
   "execution_count": 8,
   "metadata": {},
   "outputs": [
    {
     "name": "stdout",
     "output_type": "stream",
     "text": [
      "   review_id  book_id       username  \\\n",
      "0          1        1   brandtandrea   \n",
      "1          2        1     ryanfranco   \n",
      "2          3        2       lorichen   \n",
      "3          4        3  johnsonamanda   \n",
      "4          5        3    scotttamara   \n",
      "\n",
      "                                                text  \n",
      "0  Mention society tell send professor analysis. ...  \n",
      "1  Foot glass pretty audience hit themselves. Amo...  \n",
      "2  Listen treat keep worry. Miss husband tax but ...  \n",
      "3  Finally month interesting blue could nature cu...  \n",
      "4  Nation purpose heavy give wait song will. List...  \n"
     ]
    }
   ],
   "source": [
    "# Выгрузим данные таблицы reviews\n",
    "code('''\n",
    "SELECT * \n",
    "  FROM reviews\n",
    " LIMIT 5''')"
   ]
  },
  {
   "cell_type": "markdown",
   "metadata": {},
   "source": [
    "### Проведём анализ данных"
   ]
  },
  {
   "cell_type": "code",
   "execution_count": 9,
   "metadata": {},
   "outputs": [
    {
     "name": "stdout",
     "output_type": "stream",
     "text": [
      "   count\n",
      "0    819\n"
     ]
    }
   ],
   "source": [
    "code('''\n",
    "SELECT COUNT(DISTINCT book_id)\n",
    "  FROM books\n",
    " WHERE CAST(publication_date AS date) > '2000-01-01';''')"
   ]
  },
  {
   "cell_type": "markdown",
   "metadata": {},
   "source": [
    "<font color='green'> 819 книг вышло после 1 января 2000 года.</font>"
   ]
  },
  {
   "cell_type": "code",
   "execution_count": 10,
   "metadata": {},
   "outputs": [
    {
     "name": "stdout",
     "output_type": "stream",
     "text": [
      "                                                 title  avg_rating  \\\n",
      "0                              Twilight (Twilight  #1)    3.662500   \n",
      "1                                  Water for Elephants    3.977273   \n",
      "2                                     The Glass Castle    4.206897   \n",
      "3    Harry Potter and the Prisoner of Azkaban (Harr...    4.414634   \n",
      "4    The Curious Incident of the Dog in the Night-Time    4.081081   \n",
      "..                                                 ...         ...   \n",
      "995    Anne Rice's The Vampire Lestat: A Graphic Novel    3.666667   \n",
      "996                            The Natural Way to Draw    3.000000   \n",
      "997   The Cat in the Hat and Other Dr. Seuss Favorites    5.000000   \n",
      "998                          Essential Tales and Poems    4.000000   \n",
      "999  Disney's Beauty and the Beast (A Little Golden...    4.000000   \n",
      "\n",
      "     count_review  \n",
      "0               7  \n",
      "1               6  \n",
      "2               6  \n",
      "3               6  \n",
      "4               6  \n",
      "..            ...  \n",
      "995             0  \n",
      "996             0  \n",
      "997             0  \n",
      "998             0  \n",
      "999             0  \n",
      "\n",
      "[1000 rows x 3 columns]\n"
     ]
    }
   ],
   "source": [
    "code('''\n",
    "SELECT title,\n",
    "       AVG(ratings.rating) AS avg_rating, COUNT(DISTINCT reviews.review_id) AS count_review\n",
    "  FROM books\n",
    "       LEFT JOIN ratings \n",
    "       ON books.book_id=ratings.book_id\n",
    "       LEFT JOIN reviews \n",
    "       ON books.book_id=reviews.book_id\n",
    " GROUP BY books.book_id\n",
    " ORDER BY count_review  DESC;''')"
   ]
  },
  {
   "cell_type": "markdown",
   "metadata": {},
   "source": [
    "Лидеры по средней оценке Arrows of the Queen (Heralds of Valdemar  #1), 'The Walking Dead  Book One' и т.д.\\\n",
    "'Twilight' занимает первое место по количеству обзоров."
   ]
  },
  {
   "cell_type": "code",
   "execution_count": 11,
   "metadata": {},
   "outputs": [
    {
     "name": "stdout",
     "output_type": "stream",
     "text": [
      "       publisher  num_books\n",
      "0  Penguin Books         42\n"
     ]
    }
   ],
   "source": [
    "code('''\n",
    "SELECT publishers.publisher AS publisher, COUNT(book_id) AS num_books\n",
    "  FROM books\n",
    "  LEFT JOIN publishers \n",
    "    ON books.publisher_id=publishers.publisher_id\n",
    " WHERE num_pages > 50\n",
    " GROUP BY publisher\n",
    " ORDER BY num_books DESC\n",
    " LIMIT 1;''')"
   ]
  },
  {
   "cell_type": "markdown",
   "metadata": {},
   "source": [
    "Penguin Books - издательство, которое выпустило наибольшее число книг толще 50 страниц"
   ]
  },
  {
   "cell_type": "code",
   "execution_count": 15,
   "metadata": {},
   "outputs": [
    {
     "name": "stdout",
     "output_type": "stream",
     "text": [
      "                       author\n",
      "0  J.K. Rowling/Mary GrandPré\n"
     ]
    }
   ],
   "source": [
    "code('''\n",
    "SELECT author\n",
    "  FROM authors\n",
    "  WHERE author_id IN\n",
    "    (SELECT books.author_id AS author_id\n",
    "       FROM books\n",
    "            RIGHT JOIN ratings \n",
    "               ON books.book_id=ratings.book_id\n",
    "      GROUP BY author_id\n",
    "     HAVING COUNT(ratings.rating) > 50\n",
    "      ORDER BY AVG(ratings.rating) DESC\n",
    "      LIMIT 1)''')"
   ]
  },
  {
   "cell_type": "markdown",
   "metadata": {},
   "source": [
    "Автором, с самой высокой средней оценкой книг, оказалась J.K. Rowling/Mary GrandPré."
   ]
  },
  {
   "cell_type": "code",
   "execution_count": 13,
   "metadata": {
    "scrolled": true
   },
   "outputs": [
    {
     "name": "stdout",
     "output_type": "stream",
     "text": [
      "   avg_review\n",
      "0        24.2\n"
     ]
    }
   ],
   "source": [
    "code('''\n",
    "SELECT ROUND(AVG(num_review),1) AS avg_review\n",
    "  FROM\n",
    "  (SELECT COUNT(review_id) AS num_review\n",
    "     FROM reviews\n",
    "    WHERE username IN\n",
    "      (SELECT username\n",
    "         FROM ratings\n",
    "        GROUP BY username\n",
    "       HAVING COUNT(rating) > 49\n",
    "        ORDER BY COUNT(rating) DESC)\n",
    " GROUP BY username\n",
    " ORDER BY num_review DESC) AS t''')"
   ]
  },
  {
   "cell_type": "markdown",
   "metadata": {},
   "source": [
    "24.3 - среднее количество обзоров от пользователей, которые поставили больше 50 оценок."
   ]
  },
  {
   "cell_type": "markdown",
   "metadata": {},
   "source": [
    "## Общий вывод"
   ]
  },
  {
   "cell_type": "markdown",
   "metadata": {},
   "source": [
    "- 818 книг вышло после 1 января 2000 года;\n",
    "- 'Twilight' занимает первое место по количеству обзоров. А вот по средней оценке лидеров намного больше. Одни из них -'Arrows of the Queen (Heralds of Valdemar  #1)', 'The Walking Dead  Book One';\n",
    "- Penguin Books - издательство, которое выпустило наибольшее число книг толще 50 страниц;\n",
    "- Автором, с самой высокой средней оценкой книг, оказалась J.K. Rowling/Mary GrandPré. Весьма заслуженно. Вряд ли найдется человек, незнающий Гарри Поттера;\n",
    "- 24.3 - среднее количество обзоров от пользователей, которые поставили больше 50 оценок."
   ]
  },
  {
   "cell_type": "code",
   "execution_count": null,
   "metadata": {},
   "outputs": [],
   "source": []
  }
 ],
 "metadata": {
  "ExecuteTimeLog": [
   {
    "duration": 559,
    "start_time": "2021-12-26T12:00:22.682Z"
   },
   {
    "duration": 672,
    "start_time": "2021-12-26T12:00:25.588Z"
   },
   {
    "duration": 26,
    "start_time": "2021-12-26T12:00:26.261Z"
   },
   {
    "duration": 3,
    "start_time": "2021-12-26T12:01:44.524Z"
   },
   {
    "duration": 3,
    "start_time": "2021-12-26T12:02:35.221Z"
   },
   {
    "duration": 3,
    "start_time": "2021-12-26T12:02:38.124Z"
   },
   {
    "duration": 270,
    "start_time": "2021-12-26T12:02:46.577Z"
   },
   {
    "duration": 223,
    "start_time": "2021-12-26T14:40:12.131Z"
   },
   {
    "duration": 628,
    "start_time": "2021-12-26T14:40:14.692Z"
   },
   {
    "duration": 27,
    "start_time": "2021-12-26T14:40:15.322Z"
   },
   {
    "duration": 3,
    "start_time": "2021-12-26T14:40:15.351Z"
   },
   {
    "duration": 268,
    "start_time": "2021-12-26T14:40:15.356Z"
   },
   {
    "duration": 68,
    "start_time": "2021-12-26T14:40:15.626Z"
   },
   {
    "duration": 70,
    "start_time": "2021-12-26T14:40:29.816Z"
   },
   {
    "duration": 70,
    "start_time": "2021-12-26T14:40:58.078Z"
   },
   {
    "duration": 69,
    "start_time": "2021-12-26T14:40:58.256Z"
   },
   {
    "duration": 68,
    "start_time": "2021-12-26T14:42:39.849Z"
   },
   {
    "duration": 103,
    "start_time": "2021-12-26T14:43:27.458Z"
   },
   {
    "duration": 103,
    "start_time": "2021-12-26T15:01:25.242Z"
   },
   {
    "duration": 71,
    "start_time": "2021-12-26T15:03:58.893Z"
   },
   {
    "duration": 71,
    "start_time": "2021-12-26T15:04:37.215Z"
   },
   {
    "duration": 73,
    "start_time": "2021-12-26T15:05:32.121Z"
   },
   {
    "duration": 216,
    "start_time": "2021-12-26T15:12:15.052Z"
   },
   {
    "duration": 9,
    "start_time": "2021-12-26T15:12:26.250Z"
   },
   {
    "duration": 1362,
    "start_time": "2021-12-26T15:16:12.347Z"
   },
   {
    "duration": 189,
    "start_time": "2021-12-26T15:16:59.545Z"
   },
   {
    "duration": 187,
    "start_time": "2021-12-26T15:17:05.842Z"
   },
   {
    "duration": 181,
    "start_time": "2021-12-26T15:46:08.681Z"
   },
   {
    "duration": 3,
    "start_time": "2021-12-26T15:46:25.120Z"
   },
   {
    "duration": 5,
    "start_time": "2021-12-26T15:46:25.125Z"
   },
   {
    "duration": 6,
    "start_time": "2021-12-26T15:46:25.132Z"
   },
   {
    "duration": 185,
    "start_time": "2021-12-26T15:46:25.140Z"
   },
   {
    "duration": 620,
    "start_time": "2021-12-26T15:46:24.707Z"
   },
   {
    "duration": 610,
    "start_time": "2021-12-26T15:46:24.718Z"
   },
   {
    "duration": 608,
    "start_time": "2021-12-26T15:46:24.721Z"
   },
   {
    "duration": 598,
    "start_time": "2021-12-26T15:46:24.733Z"
   },
   {
    "duration": 597,
    "start_time": "2021-12-26T15:46:24.735Z"
   },
   {
    "duration": 596,
    "start_time": "2021-12-26T15:46:24.737Z"
   },
   {
    "duration": 596,
    "start_time": "2021-12-26T15:46:24.738Z"
   },
   {
    "duration": 595,
    "start_time": "2021-12-26T15:46:24.740Z"
   },
   {
    "duration": 594,
    "start_time": "2021-12-26T15:46:24.742Z"
   },
   {
    "duration": 592,
    "start_time": "2021-12-26T15:46:24.745Z"
   },
   {
    "duration": 187,
    "start_time": "2021-12-26T15:46:53.882Z"
   },
   {
    "duration": 188,
    "start_time": "2021-12-26T15:46:54.251Z"
   },
   {
    "duration": 182,
    "start_time": "2021-12-26T15:47:15.340Z"
   },
   {
    "duration": 179,
    "start_time": "2021-12-26T15:47:22.810Z"
   },
   {
    "duration": 185,
    "start_time": "2021-12-26T15:53:44.888Z"
   },
   {
    "duration": 3,
    "start_time": "2021-12-26T15:53:47.836Z"
   },
   {
    "duration": 197,
    "start_time": "2021-12-26T15:53:47.997Z"
   },
   {
    "duration": 211,
    "start_time": "2021-12-26T15:59:25.869Z"
   },
   {
    "duration": 2,
    "start_time": "2021-12-26T16:09:45.776Z"
   },
   {
    "duration": 6,
    "start_time": "2021-12-26T16:09:45.780Z"
   },
   {
    "duration": 3,
    "start_time": "2021-12-26T16:09:45.789Z"
   },
   {
    "duration": 259,
    "start_time": "2021-12-26T16:09:45.795Z"
   },
   {
    "duration": 70,
    "start_time": "2021-12-26T16:09:46.055Z"
   },
   {
    "duration": 70,
    "start_time": "2021-12-26T16:09:46.127Z"
   },
   {
    "duration": 70,
    "start_time": "2021-12-26T16:09:46.198Z"
   },
   {
    "duration": 70,
    "start_time": "2021-12-26T16:09:46.271Z"
   },
   {
    "duration": 69,
    "start_time": "2021-12-26T16:09:46.343Z"
   },
   {
    "duration": 103,
    "start_time": "2021-12-26T16:09:46.414Z"
   },
   {
    "duration": 72,
    "start_time": "2021-12-26T16:09:46.518Z"
   },
   {
    "duration": 71,
    "start_time": "2021-12-26T16:09:46.592Z"
   },
   {
    "duration": 71,
    "start_time": "2021-12-26T16:09:46.665Z"
   },
   {
    "duration": 914,
    "start_time": "2021-12-26T18:41:30.298Z"
   },
   {
    "duration": 39,
    "start_time": "2021-12-26T18:41:31.215Z"
   },
   {
    "duration": 4,
    "start_time": "2021-12-26T18:41:31.257Z"
   },
   {
    "duration": 225,
    "start_time": "2021-12-26T18:41:31.263Z"
   },
   {
    "duration": 58,
    "start_time": "2021-12-26T18:41:31.490Z"
   },
   {
    "duration": 57,
    "start_time": "2021-12-26T18:41:31.551Z"
   },
   {
    "duration": 59,
    "start_time": "2021-12-26T18:41:31.611Z"
   },
   {
    "duration": 59,
    "start_time": "2021-12-26T18:41:31.673Z"
   },
   {
    "duration": 57,
    "start_time": "2021-12-26T18:41:31.734Z"
   },
   {
    "duration": 91,
    "start_time": "2021-12-26T18:41:31.793Z"
   },
   {
    "duration": 60,
    "start_time": "2021-12-26T18:41:31.886Z"
   },
   {
    "duration": 61,
    "start_time": "2021-12-26T18:41:31.948Z"
   },
   {
    "duration": 59,
    "start_time": "2021-12-26T18:41:32.011Z"
   },
   {
    "duration": 64,
    "start_time": "2021-12-26T18:43:11.947Z"
   },
   {
    "duration": 60,
    "start_time": "2021-12-26T18:43:21.645Z"
   },
   {
    "duration": 61,
    "start_time": "2021-12-26T18:43:55.687Z"
   },
   {
    "duration": 59,
    "start_time": "2021-12-26T18:44:00.133Z"
   },
   {
    "duration": 60,
    "start_time": "2021-12-26T18:44:22.279Z"
   },
   {
    "duration": 9,
    "start_time": "2021-12-26T18:46:17.466Z"
   }
  ],
  "kernelspec": {
   "display_name": "Python 3",
   "language": "python",
   "name": "python3"
  },
  "language_info": {
   "codemirror_mode": {
    "name": "ipython",
    "version": 3
   },
   "file_extension": ".py",
   "mimetype": "text/x-python",
   "name": "python",
   "nbconvert_exporter": "python",
   "pygments_lexer": "ipython3",
   "version": "3.7.8"
  },
  "toc": {
   "base_numbering": "",
   "nav_menu": {},
   "number_sections": false,
   "sideBar": true,
   "skip_h1_title": true,
   "title_cell": "Table of Contents",
   "title_sidebar": "Contents",
   "toc_cell": false,
   "toc_position": {},
   "toc_section_display": true,
   "toc_window_display": false
  }
 },
 "nbformat": 4,
 "nbformat_minor": 2
}
